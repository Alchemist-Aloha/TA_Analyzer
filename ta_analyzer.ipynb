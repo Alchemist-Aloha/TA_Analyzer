{
 "cells": [
  {
   "cell_type": "code",
   "execution_count": null,
   "metadata": {},
   "outputs": [],
   "source": [
    "from ta_analyzer_core import tamatrix_importer, load_spectra, polyfit, plot_contour, glotaran, glotaran_output\n",
    "import matplotlib.pyplot as plt\n",
    "\n",
    "#Uncomment following if you want to use the script from other folder\n",
    "# import sys\n",
    "# import os\n",
    "# # Add the parent directory to sys.path\n",
    "# sys.path.append(os.path.abspath(os.path.join(os.getcwd(), os.pardir)))\n",
    "\n",
    "# try:\n",
    "#     # Import from the TA_analyzer folder\n",
    "#     from TA_Analyzer.ta_analyzer_core import tamatrix_importer, load_spectra, polyfit, plot_contour, glotaran, glotaran_output\n",
    "\n",
    "#     print(\"Load from TA_Analyzer folder\")\n",
    "# except ImportError:\n",
    "#     from ta_analyzer_core import tamatrix_importer, load_spectra, polyfit, plot_contour, glotaran, glotaran_output\n",
    "\n",
    "#     print(\"Load from current folder\")\n",
    "\n"
   ]
  },
  {
   "cell_type": "markdown",
   "metadata": {},
   "source": [
    "# Load TA Matrix"
   ]
  },
  {
   "cell_type": "code",
   "execution_count": null,
   "metadata": {},
   "outputs": [],
   "source": [
    "tamatrix = tamatrix_importer(filename='data/NIR800',startnm=400,endnm=800) \n",
    "tamatrix_bgcorr = tamatrix.auto_bgcorr(25)"
   ]
  },
  {
   "cell_type": "markdown",
   "metadata": {},
   "source": [
    "# Automatic zero time correction"
   ]
  },
  {
   "cell_type": "code",
   "execution_count": null,
   "metadata": {},
   "outputs": [],
   "source": [
    "tamatrix.fit_correlation(3)\n",
    "# manual plot\n",
    "# line = tamatrix.t0_list\n",
    "# fit = polyfit(line[1],line[0],line[2]) \n",
    "# plt.plot(line[0],line[1])\n",
    "# plt.plot(line[0],fit)\n",
    "# plt.legend(['correction line','fitted correction line'])\n",
    "tamatrix_tcorr = tamatrix.auto_tcorr_fit()"
   ]
  },
  {
   "cell_type": "markdown",
   "metadata": {},
   "source": [
    "# Correct zero time with manually drew line"
   ]
  },
  {
   "cell_type": "code",
   "execution_count": null,
   "metadata": {},
   "outputs": [],
   "source": [
    "# Draw the line with correction_line.py\n",
    "tamatrix.auto_tcorr('data/NIR800_line')\n",
    "plt.show()\n",
    "plot_contour(tamatrix.tatime,tamatrix.tawavelength,tamatrix.tamatrix,max_point=1)\n",
    "plt.plot(tamatrix.zerotime_x,tamatrix.zerotime_y)\n"
   ]
  },
  {
   "cell_type": "markdown",
   "metadata": {},
   "source": [
    "# Save corrected matrix, tatime0 and tawavelength0"
   ]
  },
  {
   "cell_type": "code",
   "execution_count": null,
   "metadata": {},
   "outputs": [],
   "source": [
    "tamatrix.save_all()\n"
   ]
  },
  {
   "cell_type": "markdown",
   "metadata": {},
   "source": [
    "# Plot TA spectra and traces"
   ]
  },
  {
   "cell_type": "code",
   "execution_count": null,
   "metadata": {},
   "outputs": [],
   "source": [
    "tamatrix.auto_taspectra()\n",
    "tamatrix.auto_takinetics(wavelength_pts=[550,750],tmax=1000)"
   ]
  },
  {
   "cell_type": "markdown",
   "metadata": {},
   "source": [
    "# Generate glotaran input file"
   ]
  },
  {
   "cell_type": "code",
   "execution_count": null,
   "metadata": {},
   "outputs": [],
   "source": [
    "glotaran_input = glotaran(\"data/NIR800_tcorr\", \"data/NIR800_tatime\",\"data/NIR800_tawavelength\")"
   ]
  },
  {
   "cell_type": "markdown",
   "metadata": {},
   "source": [
    "# Load Glotaran output files"
   ]
  },
  {
   "cell_type": "code",
   "execution_count": null,
   "metadata": {},
   "outputs": [],
   "source": [
    "nir800_glotaran_output = glotaran_output(\"data/NIR800_tcorr\")\n",
    "nir800_glotaran_output.plot_das()\n",
    "nir800_glotaran_output.plot_trace_fit(wavelength_select=[500,575,750],tmax=1000)"
   ]
  },
  {
   "cell_type": "markdown",
   "metadata": {},
   "source": [
    "# load raw tamatrix and display time trace"
   ]
  },
  {
   "cell_type": "code",
   "execution_count": null,
   "metadata": {},
   "outputs": [],
   "source": [
    "#ptca_nio_ito_80nj.get_1ps()\n",
    "NIR800 = load_spectra('data/NIR800',num_spec=1)\n",
    "\n",
    "k_NIR800_800nm = NIR800.get_traces(750)"
   ]
  },
  {
   "cell_type": "code",
   "execution_count": null,
   "metadata": {},
   "outputs": [],
   "source": []
  }
 ],
 "metadata": {
  "kernelspec": {
   "display_name": "Python 3",
   "language": "python",
   "name": "python3"
  },
  "language_info": {
   "codemirror_mode": {
    "name": "ipython",
    "version": 3
   },
   "file_extension": ".py",
   "mimetype": "text/x-python",
   "name": "python",
   "nbconvert_exporter": "python",
   "pygments_lexer": "ipython3",
   "version": "3.12.10"
  },
  "orig_nbformat": 4
 },
 "nbformat": 4,
 "nbformat_minor": 2
}
